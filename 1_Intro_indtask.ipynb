{
 "cells": [
  {
   "cell_type": "markdown",
   "metadata": {},
   "source": [
    "### Індивідуальне завдання №1\n",
    "Підрахувати $3^{121}$. Виведіть на екран отримане значення "
   ]
  },
  {
   "cell_type": "code",
   "execution_count": 5,
   "metadata": {},
   "outputs": [],
   "source": [
    "#код індивідуального завдання 1 тут"
   ]
  },
  {
   "cell_type": "markdown",
   "metadata": {},
   "source": [
    "### Індивідуальне завдання №2\n",
    "Підрахувати 20!. Виведіть на екран отримане значення."
   ]
  },
  {
   "cell_type": "code",
   "execution_count": 4,
   "metadata": {},
   "outputs": [],
   "source": [
    "#код індивідуального завдання 2 тут"
   ]
  },
  {
   "cell_type": "markdown",
   "metadata": {},
   "source": [
    "### Індивідуальне завдання №3\n",
    "Підрахувати довжину гіпотенузи прямокутного трикутника зі сторонами 342 та 971."
   ]
  },
  {
   "cell_type": "code",
   "execution_count": 11,
   "metadata": {},
   "outputs": [],
   "source": [
    "#код індивідуального завдання 3 тут"
   ]
  },
  {
   "cell_type": "markdown",
   "metadata": {},
   "source": [
    "### Індивідуальне завдання №4\n",
    "Виведіть українську літеру 'Ї' (українську, велику) 100 разів підряд. Рядок без лапок. "
   ]
  },
  {
   "cell_type": "code",
   "execution_count": 10,
   "metadata": {},
   "outputs": [],
   "source": [
    "#код індивідуального завдання 4 тут"
   ]
  },
  {
   "cell_type": "markdown",
   "metadata": {},
   "source": [
    "### Індивідуальне завдання №5\n",
    "Задані два цілих числа, які вводяться через консоль за допомогою функції input(). Виведіть найбільше значення із них. "
   ]
  },
  {
   "cell_type": "code",
   "execution_count": 12,
   "metadata": {},
   "outputs": [],
   "source": [
a = int(input())
b = int(input())
result = "numbers equal" if a is b else "first number bigger than second" if a >b else "second number bigger than first"
 
print (result)
   ]
  },
  {
   "cell_type": "markdown",
   "metadata": {},
   "source": [
    "### Індивідуальне завдання №6\n",
    "Задані два цілих числа, які вводяться через консоль за допомогою функції input(). Програма повинна вивести число 1, якщо перше число більше другого; число 2, якщо друге число більше першого або 0, якщо вони однакові."
   ]
  },
  {
   "cell_type": "code",
   "execution_count": 15,
   "metadata": {},
   "outputs": [],
   "source": [
    "#код індивідуального завдання 6 тут"
   ]
  },
  {
   "cell_type": "markdown",
   "metadata": {},
   "source": [
    "### Індивідуальне завдання №7\n",
    "Число 321 записали 45 разів підряд. Отримане 135-значне число піднесли до другого ступеня. Який буде результат ? "
   ]
  },
  {
   "cell_type": "code",
   "execution_count": 16,
   "metadata": {},
   "outputs": [],
   "source": [
    "#код індивідуального завдання 7 тут"
   ]
  },
  {
   "cell_type": "markdown",
   "metadata": {},
   "source": [
    "### Увага: При захисті завдання демонструється з власного інстансу Sagemaker Jupyter Notebook.   "
   ]
  },
  {
   "cell_type": "code",
   "execution_count": null,
   "metadata": {},
   "outputs": [],
   "source": []
  }
 ],
 "metadata": {
  "kernelspec": {
   "display_name": "Python 3",
   "language": "python",
   "name": "python3"
  },
  "language_info": {
   "codemirror_mode": {
    "name": "ipython",
    "version": 3
   },
   "file_extension": ".py",
   "mimetype": "text/x-python",
   "name": "python",
   "nbconvert_exporter": "python",
   "pygments_lexer": "ipython3",
   "version": "3.7.6"
  }
 },
 "nbformat": 4,
 "nbformat_minor": 4
}
